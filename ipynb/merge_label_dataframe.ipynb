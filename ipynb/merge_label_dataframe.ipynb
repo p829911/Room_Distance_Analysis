{
 "cells": [
  {
   "cell_type": "markdown",
   "metadata": {},
   "source": [
    "# 데이터 프레임 합치기\n",
    "- 서울시 초등학교\n",
    "- 서울시 중학교\n",
    "- 서울시 고등학교\n",
    "- 서울시 대학교\n",
    "- 서울시 백화점\n",
    "- 서울시 맥도날드\n",
    "- 서울시 스타벅스\n",
    "- 서울시 역"
   ]
  },
  {
   "cell_type": "code",
   "execution_count": 1,
   "metadata": {},
   "outputs": [],
   "source": [
    "ele_df = pd.read_csv(\"ele_geo.csv\")"
   ]
  },
  {
   "cell_type": "code",
   "execution_count": 2,
   "metadata": {},
   "outputs": [],
   "source": [
    "mid_df = pd.read_csv(\"mid_geo.csv\")"
   ]
  },
  {
   "cell_type": "code",
   "execution_count": 3,
   "metadata": {},
   "outputs": [],
   "source": [
    "high_df = pd.read_csv(\"high_geo.csv\")"
   ]
  },
  {
   "cell_type": "code",
   "execution_count": 4,
   "metadata": {},
   "outputs": [],
   "source": [
    "uni_df = pd.read_csv(\"uni_geo.csv\")"
   ]
  },
  {
   "cell_type": "code",
   "execution_count": 6,
   "metadata": {},
   "outputs": [],
   "source": [
    "mall_df = pd.read_csv(\"geo_mall.csv\")"
   ]
  },
  {
   "cell_type": "code",
   "execution_count": 7,
   "metadata": {},
   "outputs": [],
   "source": [
    "mc_df = pd.read_csv(\"mc_geo.csv\")"
   ]
  },
  {
   "cell_type": "code",
   "execution_count": 8,
   "metadata": {},
   "outputs": [],
   "source": [
    "star_df = pd.read_csv(\"starbucks_data.csv\")"
   ]
  },
  {
   "cell_type": "code",
   "execution_count": 9,
   "metadata": {},
   "outputs": [],
   "source": [
    "station_df = pd.read_csv(\"station_geo.csv\")"
   ]
  },
  {
   "cell_type": "code",
   "execution_count": 11,
   "metadata": {},
   "outputs": [
    {
     "data": {
      "text/html": [
       "<div>\n",
       "<style scoped>\n",
       "    .dataframe tbody tr th:only-of-type {\n",
       "        vertical-align: middle;\n",
       "    }\n",
       "\n",
       "    .dataframe tbody tr th {\n",
       "        vertical-align: top;\n",
       "    }\n",
       "\n",
       "    .dataframe thead th {\n",
       "        text-align: right;\n",
       "    }\n",
       "</style>\n",
       "<table border=\"1\" class=\"dataframe\">\n",
       "  <thead>\n",
       "    <tr style=\"text-align: right;\">\n",
       "      <th></th>\n",
       "      <th>name</th>\n",
       "      <th>lat</th>\n",
       "      <th>lng</th>\n",
       "      <th>label</th>\n",
       "    </tr>\n",
       "  </thead>\n",
       "  <tbody>\n",
       "    <tr>\n",
       "      <th>0</th>\n",
       "      <td>서울안산초등학교</td>\n",
       "      <td>37.579016</td>\n",
       "      <td>126.951524</td>\n",
       "      <td>초등학교</td>\n",
       "    </tr>\n",
       "    <tr>\n",
       "      <th>1</th>\n",
       "      <td>서울역촌초등학교</td>\n",
       "      <td>37.601738</td>\n",
       "      <td>126.914406</td>\n",
       "      <td>초등학교</td>\n",
       "    </tr>\n",
       "    <tr>\n",
       "      <th>2</th>\n",
       "      <td>서울연가초등학교</td>\n",
       "      <td>37.580202</td>\n",
       "      <td>126.918076</td>\n",
       "      <td>초등학교</td>\n",
       "    </tr>\n",
       "    <tr>\n",
       "      <th>3</th>\n",
       "      <td>서울연광초등학교</td>\n",
       "      <td>37.623826</td>\n",
       "      <td>126.924066</td>\n",
       "      <td>초등학교</td>\n",
       "    </tr>\n",
       "    <tr>\n",
       "      <th>4</th>\n",
       "      <td>서울연신초등학교</td>\n",
       "      <td>37.626261</td>\n",
       "      <td>126.928274</td>\n",
       "      <td>초등학교</td>\n",
       "    </tr>\n",
       "  </tbody>\n",
       "</table>\n",
       "</div>"
      ],
      "text/plain": [
       "       name        lat         lng label\n",
       "0  서울안산초등학교  37.579016  126.951524  초등학교\n",
       "1  서울역촌초등학교  37.601738  126.914406  초등학교\n",
       "2  서울연가초등학교  37.580202  126.918076  초등학교\n",
       "3  서울연광초등학교  37.623826  126.924066  초등학교\n",
       "4  서울연신초등학교  37.626261  126.928274  초등학교"
      ]
     },
     "execution_count": 11,
     "metadata": {},
     "output_type": "execute_result"
    }
   ],
   "source": [
    "ele_df[\"label\"] = \"초등학교\"\n",
    "ele_df.head()"
   ]
  },
  {
   "cell_type": "code",
   "execution_count": 12,
   "metadata": {},
   "outputs": [
    {
     "data": {
      "text/html": [
       "<div>\n",
       "<style scoped>\n",
       "    .dataframe tbody tr th:only-of-type {\n",
       "        vertical-align: middle;\n",
       "    }\n",
       "\n",
       "    .dataframe tbody tr th {\n",
       "        vertical-align: top;\n",
       "    }\n",
       "\n",
       "    .dataframe thead th {\n",
       "        text-align: right;\n",
       "    }\n",
       "</style>\n",
       "<table border=\"1\" class=\"dataframe\">\n",
       "  <thead>\n",
       "    <tr style=\"text-align: right;\">\n",
       "      <th></th>\n",
       "      <th>name</th>\n",
       "      <th>lat</th>\n",
       "      <th>lng</th>\n",
       "      <th>label</th>\n",
       "    </tr>\n",
       "  </thead>\n",
       "  <tbody>\n",
       "    <tr>\n",
       "      <th>0</th>\n",
       "      <td>양화중학교</td>\n",
       "      <td>37.519773</td>\n",
       "      <td>126.896054</td>\n",
       "      <td>중학교</td>\n",
       "    </tr>\n",
       "    <tr>\n",
       "      <th>1</th>\n",
       "      <td>여의도중학교</td>\n",
       "      <td>37.523948</td>\n",
       "      <td>126.935715</td>\n",
       "      <td>중학교</td>\n",
       "    </tr>\n",
       "    <tr>\n",
       "      <th>2</th>\n",
       "      <td>영남중학교</td>\n",
       "      <td>37.497624</td>\n",
       "      <td>126.895893</td>\n",
       "      <td>중학교</td>\n",
       "    </tr>\n",
       "    <tr>\n",
       "      <th>3</th>\n",
       "      <td>영림중학교</td>\n",
       "      <td>37.497554</td>\n",
       "      <td>126.890374</td>\n",
       "      <td>중학교</td>\n",
       "    </tr>\n",
       "    <tr>\n",
       "      <th>4</th>\n",
       "      <td>영서중학교</td>\n",
       "      <td>37.488968</td>\n",
       "      <td>126.894220</td>\n",
       "      <td>중학교</td>\n",
       "    </tr>\n",
       "  </tbody>\n",
       "</table>\n",
       "</div>"
      ],
      "text/plain": [
       "     name        lat         lng label\n",
       "0   양화중학교  37.519773  126.896054   중학교\n",
       "1  여의도중학교  37.523948  126.935715   중학교\n",
       "2   영남중학교  37.497624  126.895893   중학교\n",
       "3   영림중학교  37.497554  126.890374   중학교\n",
       "4   영서중학교  37.488968  126.894220   중학교"
      ]
     },
     "execution_count": 12,
     "metadata": {},
     "output_type": "execute_result"
    }
   ],
   "source": [
    "mid_df[\"label\"] = \"중학교\"\n",
    "mid_df.head()"
   ]
  },
  {
   "cell_type": "code",
   "execution_count": 13,
   "metadata": {},
   "outputs": [
    {
     "data": {
      "text/html": [
       "<div>\n",
       "<style scoped>\n",
       "    .dataframe tbody tr th:only-of-type {\n",
       "        vertical-align: middle;\n",
       "    }\n",
       "\n",
       "    .dataframe tbody tr th {\n",
       "        vertical-align: top;\n",
       "    }\n",
       "\n",
       "    .dataframe thead th {\n",
       "        text-align: right;\n",
       "    }\n",
       "</style>\n",
       "<table border=\"1\" class=\"dataframe\">\n",
       "  <thead>\n",
       "    <tr style=\"text-align: right;\">\n",
       "      <th></th>\n",
       "      <th>name</th>\n",
       "      <th>lat</th>\n",
       "      <th>lng</th>\n",
       "      <th>label</th>\n",
       "    </tr>\n",
       "  </thead>\n",
       "  <tbody>\n",
       "    <tr>\n",
       "      <th>0</th>\n",
       "      <td>국악고등학교</td>\n",
       "      <td>37.475978</td>\n",
       "      <td>127.051613</td>\n",
       "      <td>고등학교</td>\n",
       "    </tr>\n",
       "    <tr>\n",
       "      <th>1</th>\n",
       "      <td>서울대학교사범대학부설고등학교</td>\n",
       "      <td>37.592727</td>\n",
       "      <td>127.037852</td>\n",
       "      <td>고등학교</td>\n",
       "    </tr>\n",
       "    <tr>\n",
       "      <th>2</th>\n",
       "      <td>전통예술고등학교</td>\n",
       "      <td>37.446354</td>\n",
       "      <td>126.906424</td>\n",
       "      <td>고등학교</td>\n",
       "    </tr>\n",
       "    <tr>\n",
       "      <th>3</th>\n",
       "      <td>가락고등학교</td>\n",
       "      <td>37.501192</td>\n",
       "      <td>127.116591</td>\n",
       "      <td>고등학교</td>\n",
       "    </tr>\n",
       "    <tr>\n",
       "      <th>4</th>\n",
       "      <td>가재울고등학교</td>\n",
       "      <td>37.574226</td>\n",
       "      <td>126.909565</td>\n",
       "      <td>고등학교</td>\n",
       "    </tr>\n",
       "  </tbody>\n",
       "</table>\n",
       "</div>"
      ],
      "text/plain": [
       "              name        lat         lng label\n",
       "0           국악고등학교  37.475978  127.051613  고등학교\n",
       "1  서울대학교사범대학부설고등학교  37.592727  127.037852  고등학교\n",
       "2         전통예술고등학교  37.446354  126.906424  고등학교\n",
       "3           가락고등학교  37.501192  127.116591  고등학교\n",
       "4          가재울고등학교  37.574226  126.909565  고등학교"
      ]
     },
     "execution_count": 13,
     "metadata": {},
     "output_type": "execute_result"
    }
   ],
   "source": [
    "high_df[\"label\"] = \"고등학교\"\n",
    "high_df.head()"
   ]
  },
  {
   "cell_type": "code",
   "execution_count": 14,
   "metadata": {},
   "outputs": [
    {
     "data": {
      "text/html": [
       "<div>\n",
       "<style scoped>\n",
       "    .dataframe tbody tr th:only-of-type {\n",
       "        vertical-align: middle;\n",
       "    }\n",
       "\n",
       "    .dataframe tbody tr th {\n",
       "        vertical-align: top;\n",
       "    }\n",
       "\n",
       "    .dataframe thead th {\n",
       "        text-align: right;\n",
       "    }\n",
       "</style>\n",
       "<table border=\"1\" class=\"dataframe\">\n",
       "  <thead>\n",
       "    <tr style=\"text-align: right;\">\n",
       "      <th></th>\n",
       "      <th>name</th>\n",
       "      <th>lat</th>\n",
       "      <th>lng</th>\n",
       "      <th>label</th>\n",
       "    </tr>\n",
       "  </thead>\n",
       "  <tbody>\n",
       "    <tr>\n",
       "      <th>0</th>\n",
       "      <td>서울시립대학교</td>\n",
       "      <td>37.583866</td>\n",
       "      <td>127.058777</td>\n",
       "      <td>대학교</td>\n",
       "    </tr>\n",
       "    <tr>\n",
       "      <th>1</th>\n",
       "      <td>서울여자대학교</td>\n",
       "      <td>37.628113</td>\n",
       "      <td>127.090457</td>\n",
       "      <td>대학교</td>\n",
       "    </tr>\n",
       "    <tr>\n",
       "      <th>2</th>\n",
       "      <td>성공회대학교</td>\n",
       "      <td>37.487233</td>\n",
       "      <td>126.825320</td>\n",
       "      <td>대학교</td>\n",
       "    </tr>\n",
       "    <tr>\n",
       "      <th>3</th>\n",
       "      <td>성균관대학교</td>\n",
       "      <td>37.588227</td>\n",
       "      <td>126.993606</td>\n",
       "      <td>대학교</td>\n",
       "    </tr>\n",
       "    <tr>\n",
       "      <th>4</th>\n",
       "      <td>성신여자대학교</td>\n",
       "      <td>37.591505</td>\n",
       "      <td>127.020326</td>\n",
       "      <td>대학교</td>\n",
       "    </tr>\n",
       "  </tbody>\n",
       "</table>\n",
       "</div>"
      ],
      "text/plain": [
       "      name        lat         lng label\n",
       "0  서울시립대학교  37.583866  127.058777   대학교\n",
       "1  서울여자대학교  37.628113  127.090457   대학교\n",
       "2   성공회대학교  37.487233  126.825320   대학교\n",
       "3   성균관대학교  37.588227  126.993606   대학교\n",
       "4  성신여자대학교  37.591505  127.020326   대학교"
      ]
     },
     "execution_count": 14,
     "metadata": {},
     "output_type": "execute_result"
    }
   ],
   "source": [
    "uni_df[\"label\"] = \"대학교\"\n",
    "uni_df.head()"
   ]
  },
  {
   "cell_type": "code",
   "execution_count": 15,
   "metadata": {},
   "outputs": [
    {
     "data": {
      "text/html": [
       "<div>\n",
       "<style scoped>\n",
       "    .dataframe tbody tr th:only-of-type {\n",
       "        vertical-align: middle;\n",
       "    }\n",
       "\n",
       "    .dataframe tbody tr th {\n",
       "        vertical-align: top;\n",
       "    }\n",
       "\n",
       "    .dataframe thead th {\n",
       "        text-align: right;\n",
       "    }\n",
       "</style>\n",
       "<table border=\"1\" class=\"dataframe\">\n",
       "  <thead>\n",
       "    <tr style=\"text-align: right;\">\n",
       "      <th></th>\n",
       "      <th>name</th>\n",
       "      <th>lat</th>\n",
       "      <th>lng</th>\n",
       "      <th>label</th>\n",
       "    </tr>\n",
       "  </thead>\n",
       "  <tbody>\n",
       "    <tr>\n",
       "      <th>0</th>\n",
       "      <td>신세계백화점 본점</td>\n",
       "      <td>37.560918</td>\n",
       "      <td>126.981133</td>\n",
       "      <td>몰</td>\n",
       "    </tr>\n",
       "    <tr>\n",
       "      <th>1</th>\n",
       "      <td>신세계백화점 강남점</td>\n",
       "      <td>37.504130</td>\n",
       "      <td>127.003069</td>\n",
       "      <td>몰</td>\n",
       "    </tr>\n",
       "    <tr>\n",
       "      <th>2</th>\n",
       "      <td>신세계백화점 영등포점</td>\n",
       "      <td>37.517626</td>\n",
       "      <td>126.905250</td>\n",
       "      <td>몰</td>\n",
       "    </tr>\n",
       "    <tr>\n",
       "      <th>3</th>\n",
       "      <td>현대백화점 디큐브시티점</td>\n",
       "      <td>37.508432</td>\n",
       "      <td>126.888733</td>\n",
       "      <td>몰</td>\n",
       "    </tr>\n",
       "    <tr>\n",
       "      <th>4</th>\n",
       "      <td>현대백화점 무역센터점</td>\n",
       "      <td>37.508543</td>\n",
       "      <td>127.059769</td>\n",
       "      <td>몰</td>\n",
       "    </tr>\n",
       "  </tbody>\n",
       "</table>\n",
       "</div>"
      ],
      "text/plain": [
       "           name        lat         lng label\n",
       "0     신세계백화점 본점  37.560918  126.981133     몰\n",
       "1    신세계백화점 강남점  37.504130  127.003069     몰\n",
       "2   신세계백화점 영등포점  37.517626  126.905250     몰\n",
       "3  현대백화점 디큐브시티점  37.508432  126.888733     몰\n",
       "4   현대백화점 무역센터점  37.508543  127.059769     몰"
      ]
     },
     "execution_count": 15,
     "metadata": {},
     "output_type": "execute_result"
    }
   ],
   "source": [
    "mall_df[\"label\"] = \"몰\"\n",
    "mall_df.head()"
   ]
  },
  {
   "cell_type": "code",
   "execution_count": 16,
   "metadata": {},
   "outputs": [
    {
     "data": {
      "text/html": [
       "<div>\n",
       "<style scoped>\n",
       "    .dataframe tbody tr th:only-of-type {\n",
       "        vertical-align: middle;\n",
       "    }\n",
       "\n",
       "    .dataframe tbody tr th {\n",
       "        vertical-align: top;\n",
       "    }\n",
       "\n",
       "    .dataframe thead th {\n",
       "        text-align: right;\n",
       "    }\n",
       "</style>\n",
       "<table border=\"1\" class=\"dataframe\">\n",
       "  <thead>\n",
       "    <tr style=\"text-align: right;\">\n",
       "      <th></th>\n",
       "      <th>name</th>\n",
       "      <th>lat</th>\n",
       "      <th>lng</th>\n",
       "      <th>label</th>\n",
       "    </tr>\n",
       "  </thead>\n",
       "  <tbody>\n",
       "    <tr>\n",
       "      <th>0</th>\n",
       "      <td>가락DT점</td>\n",
       "      <td>37.494854</td>\n",
       "      <td>127.130785</td>\n",
       "      <td>맥도날드</td>\n",
       "    </tr>\n",
       "    <tr>\n",
       "      <th>1</th>\n",
       "      <td>가산디지털점</td>\n",
       "      <td>37.481377</td>\n",
       "      <td>126.883705</td>\n",
       "      <td>맥도날드</td>\n",
       "    </tr>\n",
       "    <tr>\n",
       "      <th>2</th>\n",
       "      <td>가산비지니스센터점</td>\n",
       "      <td>37.480127</td>\n",
       "      <td>126.881037</td>\n",
       "      <td>맥도날드</td>\n",
       "    </tr>\n",
       "    <tr>\n",
       "      <th>3</th>\n",
       "      <td>강남2호점</td>\n",
       "      <td>37.498655</td>\n",
       "      <td>127.028744</td>\n",
       "      <td>맥도날드</td>\n",
       "    </tr>\n",
       "    <tr>\n",
       "      <th>4</th>\n",
       "      <td>강남구청점</td>\n",
       "      <td>37.516236</td>\n",
       "      <td>127.041313</td>\n",
       "      <td>맥도날드</td>\n",
       "    </tr>\n",
       "  </tbody>\n",
       "</table>\n",
       "</div>"
      ],
      "text/plain": [
       "        name        lat         lng label\n",
       "0      가락DT점  37.494854  127.130785  맥도날드\n",
       "1     가산디지털점  37.481377  126.883705  맥도날드\n",
       "2  가산비지니스센터점  37.480127  126.881037  맥도날드\n",
       "3      강남2호점  37.498655  127.028744  맥도날드\n",
       "4      강남구청점  37.516236  127.041313  맥도날드"
      ]
     },
     "execution_count": 16,
     "metadata": {},
     "output_type": "execute_result"
    }
   ],
   "source": [
    "mc_df[\"label\"] = \"맥도날드\"\n",
    "mc_df.head()"
   ]
  },
  {
   "cell_type": "code",
   "execution_count": 18,
   "metadata": {},
   "outputs": [
    {
     "data": {
      "text/html": [
       "<div>\n",
       "<style scoped>\n",
       "    .dataframe tbody tr th:only-of-type {\n",
       "        vertical-align: middle;\n",
       "    }\n",
       "\n",
       "    .dataframe tbody tr th {\n",
       "        vertical-align: top;\n",
       "    }\n",
       "\n",
       "    .dataframe thead th {\n",
       "        text-align: right;\n",
       "    }\n",
       "</style>\n",
       "<table border=\"1\" class=\"dataframe\">\n",
       "  <thead>\n",
       "    <tr style=\"text-align: right;\">\n",
       "      <th></th>\n",
       "      <th>name</th>\n",
       "      <th>lat</th>\n",
       "      <th>long</th>\n",
       "      <th>label</th>\n",
       "    </tr>\n",
       "  </thead>\n",
       "  <tbody>\n",
       "    <tr>\n",
       "      <th>0</th>\n",
       "      <td>논현역사거리</td>\n",
       "      <td>37.510178</td>\n",
       "      <td>127.022223</td>\n",
       "      <td>스타벅스</td>\n",
       "    </tr>\n",
       "    <tr>\n",
       "      <th>1</th>\n",
       "      <td>삼성역섬유센터R</td>\n",
       "      <td>37.507750</td>\n",
       "      <td>127.060651</td>\n",
       "      <td>스타벅스</td>\n",
       "    </tr>\n",
       "    <tr>\n",
       "      <th>2</th>\n",
       "      <td>압구정R</td>\n",
       "      <td>37.527367</td>\n",
       "      <td>127.033061</td>\n",
       "      <td>스타벅스</td>\n",
       "    </tr>\n",
       "    <tr>\n",
       "      <th>3</th>\n",
       "      <td>수서역R</td>\n",
       "      <td>37.488008</td>\n",
       "      <td>127.102650</td>\n",
       "      <td>스타벅스</td>\n",
       "    </tr>\n",
       "    <tr>\n",
       "      <th>4</th>\n",
       "      <td>양재강남빌딩R</td>\n",
       "      <td>37.485192</td>\n",
       "      <td>127.036685</td>\n",
       "      <td>스타벅스</td>\n",
       "    </tr>\n",
       "  </tbody>\n",
       "</table>\n",
       "</div>"
      ],
      "text/plain": [
       "       name        lat        long label\n",
       "0    논현역사거리  37.510178  127.022223  스타벅스\n",
       "1  삼성역섬유센터R  37.507750  127.060651  스타벅스\n",
       "2      압구정R  37.527367  127.033061  스타벅스\n",
       "3      수서역R  37.488008  127.102650  스타벅스\n",
       "4   양재강남빌딩R  37.485192  127.036685  스타벅스"
      ]
     },
     "execution_count": 18,
     "metadata": {},
     "output_type": "execute_result"
    }
   ],
   "source": [
    "star_df[\"label\"] = \"스타벅스\"\n",
    "star_df.head()"
   ]
  },
  {
   "cell_type": "code",
   "execution_count": 36,
   "metadata": {},
   "outputs": [],
   "source": [
    "star_df.columns = [\"name\", \"lat\", \"lng\", \"label\"]"
   ]
  },
  {
   "cell_type": "code",
   "execution_count": 22,
   "metadata": {},
   "outputs": [
    {
     "data": {
      "text/html": [
       "<div>\n",
       "<style scoped>\n",
       "    .dataframe tbody tr th:only-of-type {\n",
       "        vertical-align: middle;\n",
       "    }\n",
       "\n",
       "    .dataframe tbody tr th {\n",
       "        vertical-align: top;\n",
       "    }\n",
       "\n",
       "    .dataframe thead th {\n",
       "        text-align: right;\n",
       "    }\n",
       "</style>\n",
       "<table border=\"1\" class=\"dataframe\">\n",
       "  <thead>\n",
       "    <tr style=\"text-align: right;\">\n",
       "      <th></th>\n",
       "      <th>name</th>\n",
       "      <th>lat</th>\n",
       "      <th>lng</th>\n",
       "      <th>label</th>\n",
       "    </tr>\n",
       "  </thead>\n",
       "  <tbody>\n",
       "    <tr>\n",
       "      <th>0</th>\n",
       "      <td>419민주묘지</td>\n",
       "      <td>37.650306</td>\n",
       "      <td>127.013289</td>\n",
       "      <td>역</td>\n",
       "    </tr>\n",
       "    <tr>\n",
       "      <th>1</th>\n",
       "      <td>가락시장</td>\n",
       "      <td>37.492522</td>\n",
       "      <td>127.118234</td>\n",
       "      <td>역</td>\n",
       "    </tr>\n",
       "    <tr>\n",
       "      <th>2</th>\n",
       "      <td>가산디지털단지</td>\n",
       "      <td>37.481072</td>\n",
       "      <td>126.882343</td>\n",
       "      <td>역</td>\n",
       "    </tr>\n",
       "    <tr>\n",
       "      <th>3</th>\n",
       "      <td>가양</td>\n",
       "      <td>37.561391</td>\n",
       "      <td>126.854456</td>\n",
       "      <td>역</td>\n",
       "    </tr>\n",
       "    <tr>\n",
       "      <th>4</th>\n",
       "      <td>가오리</td>\n",
       "      <td>37.641422</td>\n",
       "      <td>127.016766</td>\n",
       "      <td>역</td>\n",
       "    </tr>\n",
       "  </tbody>\n",
       "</table>\n",
       "</div>"
      ],
      "text/plain": [
       "      name        lat         lng label\n",
       "0  419민주묘지  37.650306  127.013289     역\n",
       "1     가락시장  37.492522  127.118234     역\n",
       "2  가산디지털단지  37.481072  126.882343     역\n",
       "3       가양  37.561391  126.854456     역\n",
       "4      가오리  37.641422  127.016766     역"
      ]
     },
     "execution_count": 22,
     "metadata": {},
     "output_type": "execute_result"
    }
   ],
   "source": [
    "station_df[\"label\"] = \"역\"\n",
    "station_df.head()"
   ]
  },
  {
   "cell_type": "code",
   "execution_count": 40,
   "metadata": {},
   "outputs": [],
   "source": [
    "geo_df = pd.concat([ele_df, mid_df, high_df, uni_df, mall_df, mc_df, star_df, station_df], ignore_index=True)"
   ]
  },
  {
   "cell_type": "code",
   "execution_count": 41,
   "metadata": {},
   "outputs": [],
   "source": [
    "geo_df.to_csv(\"geo_df.csv\", index=False)"
   ]
  }
 ],
 "metadata": {
  "kernelspec": {
   "display_name": "Python 3",
   "language": "python",
   "name": "python3"
  },
  "language_info": {
   "codemirror_mode": {
    "name": "ipython",
    "version": 3
   },
   "file_extension": ".py",
   "mimetype": "text/x-python",
   "name": "python",
   "nbconvert_exporter": "python",
   "pygments_lexer": "ipython3",
   "version": "3.7.2"
  }
 },
 "nbformat": 4,
 "nbformat_minor": 2
}
