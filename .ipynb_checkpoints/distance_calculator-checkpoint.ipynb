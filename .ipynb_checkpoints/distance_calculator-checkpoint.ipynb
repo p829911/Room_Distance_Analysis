{
 "cells": [
  {
   "cell_type": "code",
   "execution_count": 5,
   "metadata": {},
   "outputs": [],
   "source": [
    "from scipy.spatial import distance"
   ]
  },
  {
   "cell_type": "code",
   "execution_count": 88,
   "metadata": {},
   "outputs": [],
   "source": [
    "geo_df = pd.read_csv(\"geo_df.csv\")"
   ]
  },
  {
   "cell_type": "code",
   "execution_count": 162,
   "metadata": {},
   "outputs": [],
   "source": [
    "zigbang_df = pd.read_csv(\"zigbang_crawling.csv\")"
   ]
  },
  {
   "cell_type": "code",
   "execution_count": 90,
   "metadata": {},
   "outputs": [],
   "source": [
    "location_name = [\"초등학교\", \"중학교\", \"고등학교\", \"대학교\", \"스타벅스\", \"맥도날드\", \"역\", \"몰\"]"
   ]
  },
  {
   "cell_type": "code",
   "execution_count": 91,
   "metadata": {},
   "outputs": [],
   "source": [
    "def shortest_place(df, lat, lng):\n",
    "    df_a = df\n",
    "    df_a[\"distance\"] = ((df_a.lat - lat) ** 2 + (df_a.lng - lng) ** 2) ** (1/2) * 10000\n",
    "    name = df_a.sort_values(\"distance\").iloc[0][\"name\"]\n",
    "    distance = df_a.sort_values(\"distance\").iloc[0][\"distance\"]\n",
    "    return name, distance"
   ]
  },
  {
   "cell_type": "code",
   "execution_count": 92,
   "metadata": {},
   "outputs": [],
   "source": [
    "df = geo_df[geo_df[\"label\"] == location_name[0]]"
   ]
  },
  {
   "cell_type": "code",
   "execution_count": 93,
   "metadata": {},
   "outputs": [],
   "source": [
    "name, distance = shortest_place(df, zigbang_df[\"lat\"].iloc[0], zigbang_df[\"lng\"].iloc[0])"
   ]
  },
  {
   "cell_type": "code",
   "execution_count": 94,
   "metadata": {},
   "outputs": [
    {
     "data": {
      "text/plain": [
       "('서울서교초등학교', 32.65175150462473)"
      ]
     },
     "execution_count": 94,
     "metadata": {},
     "output_type": "execute_result"
    }
   ],
   "source": [
    "name, distance"
   ]
  },
  {
   "cell_type": "code",
   "execution_count": 105,
   "metadata": {},
   "outputs": [],
   "source": [
    "ls = []\n",
    "for i, geo in enumerate(zip(zigbang_df[\"lat\"], zigbang_df[\"lng\"])):\n",
    "    for loc_name in location_name:\n",
    "        df = geo_df[geo_df[\"label\"] == loc_name]\n",
    "        name, distance = shortest_place(df, geo[0], geo[1])\n",
    "        ls.append(name)\n",
    "        ls.append(distance)"
   ]
  },
  {
   "cell_type": "code",
   "execution_count": 90,
   "metadata": {},
   "outputs": [],
   "source": [
    "location_name = [\"초등학교\", \"중학교\", \"고등학교\", \"대학교\", \"스타벅스\", \"맥도날드\", \"역\", \"몰\"]"
   ]
  },
  {
   "cell_type": "code",
   "execution_count": 124,
   "metadata": {},
   "outputs": [],
   "source": [
    "ls_total = np.array(ls).reshape(30, 16)"
   ]
  },
  {
   "cell_type": "code",
   "execution_count": 125,
   "metadata": {},
   "outputs": [],
   "source": [
    "columns = [\"초등학교\",\"초등학교거리\", \"중학교\", \"중학교거리\",\\\n",
    "           \"고등학교\", \"고등학교거리\", \"대학교\", \"대학교거리\",\\\n",
    "           \"스타벅스\", \"스타벅스거리\", \"맥도날드\", \"맥도날드거리\",\\\n",
    "           \"역\", \"역거리\", \"몰\", \"몰거리\"]"
   ]
  },
  {
   "cell_type": "code",
   "execution_count": 129,
   "metadata": {},
   "outputs": [],
   "source": [
    "segun_df = pd.DataFrame(data = ls_total, columns = columns)"
   ]
  },
  {
   "cell_type": "code",
   "execution_count": 132,
   "metadata": {},
   "outputs": [],
   "source": [
    "total_df = pd.concat([zigbang_df, segun_df], axis=1)"
   ]
  },
  {
   "cell_type": "code",
   "execution_count": 133,
   "metadata": {},
   "outputs": [
    {
     "data": {
      "text/plain": [
       "Index(['rent', 'deposit', 'floor', 'size', 'address1', 'address2', 'lat',\n",
       "       'lng', 'options', 'manage_cost', 'parking', 'elevator', 'movein_date',\n",
       "       'agent_name', 'agent_phone', 'agent_email', 'distance', '초등학교',\n",
       "       '초등학교거리', '중학교', '중학교거리', '고등학교', '고등학교거리', '대학교', '대학교거리', '스타벅스',\n",
       "       '스타벅스거리', '맥도날드', '맥도날드거리', '역', '역거리', '몰', '몰거리'],\n",
       "      dtype='object')"
      ]
     },
     "execution_count": 133,
     "metadata": {},
     "output_type": "execute_result"
    }
   ],
   "source": [
    "total_df.columns"
   ]
  },
  {
   "cell_type": "code",
   "execution_count": 157,
   "metadata": {},
   "outputs": [
    {
     "data": {
      "text/plain": [
       "22    473.478560\n",
       "27    478.145690\n",
       "15    478.392638\n",
       "12    481.807323\n",
       "7     482.751320\n",
       "13    482.813800\n",
       "28    483.712919\n",
       "26    484.425048\n",
       "10    484.482840\n",
       "23    484.520255\n",
       "9     484.565359\n",
       "8     485.371160\n",
       "20    486.941484\n",
       "14    487.131167\n",
       "3     487.550942\n",
       "2     488.066686\n",
       "21    488.189609\n",
       "1     488.938622\n",
       "16    489.116492\n",
       "29    489.720619\n",
       "4     491.130191\n",
       "6     491.404786\n",
       "5     491.642895\n",
       "24    492.552845\n",
       "25    492.938174\n",
       "19    494.196066\n",
       "17    494.256244\n",
       "11    494.463580\n",
       "18    494.920026\n",
       "0     496.162944\n",
       "dtype: float64"
      ]
     },
     "execution_count": 157,
     "metadata": {},
     "output_type": "execute_result"
    }
   ],
   "source": [
    "total_df[[\"초등학교거리\", \"중학교거리\", \"고등학교거리\", \"대학교거리\", \"스타벅스거리\", \"맥도날드거리\", \"역거리\", \"몰거리\"]].astype('float').sum(axis=1).sort_values()"
   ]
  },
  {
   "cell_type": "code",
   "execution_count": 169,
   "metadata": {},
   "outputs": [
    {
     "data": {
      "text/plain": [
       "rent                                  50\n",
       "deposit                             3000\n",
       "floor                                 1층\n",
       "size                                   8\n",
       "address1                     서울시 마포구 창전동\n",
       "address2                          436-27\n",
       "lat                              37.5532\n",
       "lng                              126.925\n",
       "options        에어컨,냉장고,세탁기,가스레인지,신발장,싱크대\n",
       "manage_cost                          5만원\n",
       "parking                              불가능\n",
       "elevator                              없음\n",
       "movein_date                      즉시입주 가능\n",
       "agent_name                  천하공인중개사(정용우)\n",
       "agent_phone                  02-336-2227\n",
       "agent_email            jyw1003@naver.com\n",
       "distance                         17.3725\n",
       "초등학교                            서울서교초등학교\n",
       "초등학교거리                  14.7662070499573\n",
       "중학교                                성산중학교\n",
       "중학교거리                 107.42688725964723\n",
       "고등학교                              경성고등학교\n",
       "고등학교거리                114.59826716644386\n",
       "대학교                                홍익대학교\n",
       "대학교거리                   47.7385654212632\n",
       "스타벅스                               홍대갤러리\n",
       "스타벅스거리                3.2441933707597346\n",
       "맥도날드                                홍익대점\n",
       "맥도날드거리                  35.2947052174205\n",
       "역                                   홍대입구\n",
       "역거리                    40.02650580895476\n",
       "몰                              현대백화점 신촌점\n",
       "몰거리                   110.38322912341671\n",
       "Name: 22, dtype: object"
      ]
     },
     "execution_count": 169,
     "metadata": {},
     "output_type": "execute_result"
    }
   ],
   "source": [
    "total_df.iloc[22]"
   ]
  },
  {
   "cell_type": "code",
   "execution_count": 167,
   "metadata": {},
   "outputs": [
    {
     "data": {
      "text/plain": [
       "(37.553196556596, 126.92514090902107)"
      ]
     },
     "execution_count": 167,
     "metadata": {},
     "output_type": "execute_result"
    }
   ],
   "source": [
    "total_df['lat'][22], total_df['lng'][22]"
   ]
  },
  {
   "cell_type": "code",
   "execution_count": 168,
   "metadata": {},
   "outputs": [
    {
     "data": {
      "text/plain": [
       "rent                                  50\n",
       "deposit                             3000\n",
       "floor                                 1층\n",
       "size                                   8\n",
       "address1                     서울시 마포구 창전동\n",
       "address2                          436-27\n",
       "lat                              37.5532\n",
       "lng                              126.925\n",
       "options        에어컨,냉장고,세탁기,가스레인지,신발장,싱크대\n",
       "manage_cost                          5만원\n",
       "parking                              불가능\n",
       "elevator                              없음\n",
       "movein_date                      즉시입주 가능\n",
       "agent_name                  천하공인중개사(정용우)\n",
       "agent_phone                  02-336-2227\n",
       "agent_email            jyw1003@naver.com\n",
       "distance                         17.3725\n",
       "Name: 22, dtype: object"
      ]
     },
     "execution_count": 168,
     "metadata": {},
     "output_type": "execute_result"
    }
   ],
   "source": [
    "zigbang_df.iloc[22]"
   ]
  },
  {
   "cell_type": "code",
   "execution_count": null,
   "metadata": {},
   "outputs": [],
   "source": []
  }
 ],
 "metadata": {
  "kernelspec": {
   "display_name": "Python 3",
   "language": "python",
   "name": "python3"
  },
  "language_info": {
   "codemirror_mode": {
    "name": "ipython",
    "version": 3
   },
   "file_extension": ".py",
   "mimetype": "text/x-python",
   "name": "python",
   "nbconvert_exporter": "python",
   "pygments_lexer": "ipython3",
   "version": "3.7.2"
  }
 },
 "nbformat": 4,
 "nbformat_minor": 2
}
